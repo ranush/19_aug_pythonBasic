{
 "cells": [
  {
   "cell_type": "code",
   "execution_count": 5,
   "id": "902562ab",
   "metadata": {},
   "outputs": [
    {
     "name": "stdout",
     "output_type": "stream",
     "text": [
      "Before swap x =  5 And y =  10\n",
      "After swap x =  10 And y =  5\n"
     ]
    }
   ],
   "source": [
    "# Done by : Ranu Sharma\n",
    "#TOPIC: Python Basics Variable\n",
    "\n",
    "\"\"\"\n",
    "1. Declare two variables, `x` and `y`, and assign them integer values. Swap the\n",
    "values of these variables without using any temporary variable.\n",
    "\n",
    "\"\"\"\n",
    "\n",
    "x = 5\n",
    "y = 10\n",
    "print(\"Before swap x = \",x,\"And y = \",y)\n",
    "x,y = y,x\n",
    "print(\"After swap x = \",x,\"And y = \",y)\n"
   ]
  },
  {
   "cell_type": "code",
   "execution_count": 12,
   "id": "b5247527",
   "metadata": {},
   "outputs": [
    {
     "name": "stdout",
     "output_type": "stream",
     "text": [
      "Enter length of rectangle = 3\n",
      "Enter Breadth of rectangle = 4\n",
      "Area of Rectangle is =  12.0\n"
     ]
    }
   ],
   "source": [
    "\"\"\"\n",
    "2. Create a program that calculates the area of a rectangle. Take the length and\n",
    "width as inputs from the user and store them in variables. Calculate and\n",
    "display the area.\n",
    "\"\"\"\n",
    "length = float(input(\"Enter length of rectangle = \"))\n",
    "breadth = float(input(\"Enter Breadth of rectangle = \"))\n",
    "area_of_rectangle = length * breadth\n",
    "print(\"Area of Rectangle is = \",area_of_rectangle)"
   ]
  },
  {
   "cell_type": "code",
   "execution_count": 13,
   "id": "402ea8db",
   "metadata": {},
   "outputs": [
    {
     "name": "stdout",
     "output_type": "stream",
     "text": [
      "Enter temperature in Celcius = 3\n",
      "Temperature after converting from Celcius  3  to Fahrenheit is  37.4\n"
     ]
    }
   ],
   "source": [
    "\"\"\"\n",
    "3. Write a Python program that converts temperatures from Celsius to\n",
    "Fahrenheit. Take the temperature in Celsius as input, store it in a variable,\n",
    "convert it to Fahrenheit, and display the result.\n",
    "\"\"\"\n",
    "\n",
    "celcius = int(input(\"Enter temperature in Celcius = \"))\n",
    "fahrenheit = (celcius * (9/5))+32\n",
    "print(\"Temperature after converting from Celcius \",celcius,\" to Fahrenheit is \",fahrenheit)"
   ]
  },
  {
   "cell_type": "code",
   "execution_count": 16,
   "id": "64f7c6fc",
   "metadata": {},
   "outputs": [
    {
     "name": "stdout",
     "output_type": "stream",
     "text": [
      "Enter any string = ranu sharma\n",
      "Length of string is =  11\n"
     ]
    }
   ],
   "source": [
    "# TOPIC: String Based Questions\n",
    "\"\"\"\n",
    "1. Write a Python program that takes a string as input and prints the length of\n",
    "the string.\n",
    "\"\"\"\n",
    "string = input(\"Enter any string = \")\n",
    "print(\"Length of string is = \",len(string))"
   ]
  },
  {
   "cell_type": "code",
   "execution_count": 22,
   "id": "83858d05",
   "metadata": {},
   "outputs": [
    {
     "name": "stdout",
     "output_type": "stream",
     "text": [
      "Enter Sentence = Create a program that takes a sentence from the user and counts the number\n",
      "Vowels in the sentence : a = 7  e =  10  i =  0  o =  3  u =  3\n"
     ]
    }
   ],
   "source": [
    "\"\"\"\n",
    "2. Create a program that takes a sentence from the user and counts the number\n",
    "of vowels (a, e, i, o, u) in the string.\n",
    "\"\"\"\n",
    "sentence = input(\"Enter Sentence = \")\n",
    "print(\"Vowels in the sentence : a =\",sentence.count(\"a\"),\n",
    "                              \" e = \",sentence.count(\"e\"),\n",
    "                              \" i = \",sentence.count(\"i\"),\n",
    "                              \" o = \",sentence.count(\"o\"),\n",
    "                              \" u = \",sentence.count(\"u\"))"
   ]
  },
  {
   "cell_type": "code",
   "execution_count": 23,
   "id": "977af410",
   "metadata": {},
   "outputs": [
    {
     "name": "stdout",
     "output_type": "stream",
     "text": [
      "After reverse the string is =  dlrow olleH\n"
     ]
    }
   ],
   "source": [
    "\"\"\"\n",
    "3. Given a string, reverse the order of characters using string slicing and print\n",
    "the reversed string.\n",
    "\"\"\"\n",
    "string = \"Hello world\"\n",
    "print(\"After reverse the string is = \",string[::-1])"
   ]
  },
  {
   "cell_type": "code",
   "execution_count": 30,
   "id": "74642f38",
   "metadata": {},
   "outputs": [
    {
     "name": "stdout",
     "output_type": "stream",
     "text": [
      "Enter any string = ollo\n",
      "Input String is Palindrome True\n"
     ]
    }
   ],
   "source": [
    "\"\"\"\n",
    "4. Write a program that takes a string as input and checks if it is a palindrome\n",
    "(reads the same forwards and backwards).\n",
    "\"\"\"\n",
    "string1 = input(\"Enter any string = \")\n",
    "string2 = string1[::-1]\n",
    "print(\"Input String is Palindrome\",string1 == string2)\n"
   ]
  },
  {
   "cell_type": "code",
   "execution_count": 41,
   "id": "ccaf8fd5",
   "metadata": {},
   "outputs": [
    {
     "name": "stdout",
     "output_type": "stream",
     "text": [
      "Enter string : the world is great\n",
      "String without spaces :  theworldisgreat\n"
     ]
    }
   ],
   "source": [
    "\"\"\"\n",
    "5. Create a program that takes a string as input and removes all the spaces from\n",
    "it. Print the modified string without spaces.\n",
    "\"\"\"\n",
    "string = input(\"Enter string : \")\n",
    "print(\"String without spaces : \",string.replace(\" \",\"\"))\n"
   ]
  },
  {
   "cell_type": "code",
   "execution_count": null,
   "id": "2a7dc4bd",
   "metadata": {},
   "outputs": [],
   "source": []
  }
 ],
 "metadata": {
  "kernelspec": {
   "display_name": "Python 3 (ipykernel)",
   "language": "python",
   "name": "python3"
  },
  "language_info": {
   "codemirror_mode": {
    "name": "ipython",
    "version": 3
   },
   "file_extension": ".py",
   "mimetype": "text/x-python",
   "name": "python",
   "nbconvert_exporter": "python",
   "pygments_lexer": "ipython3",
   "version": "3.9.7"
  }
 },
 "nbformat": 4,
 "nbformat_minor": 5
}
